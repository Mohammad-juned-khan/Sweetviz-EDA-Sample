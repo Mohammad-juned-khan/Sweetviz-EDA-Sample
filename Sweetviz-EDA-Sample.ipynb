{
 "cells": [
  {
   "cell_type": "markdown",
   "id": "underlying-indonesia",
   "metadata": {},
   "source": [
    "# Exploratory Data Analysis Using Sweetviz\n",
    "Sweetviz: - Sweetviz is an open-source Python library used to perform quick EDA. The library offers beautiful, high-density visualizations for EDA with only few lines of code. The EDA analysis output generated is a fully self-contained HTML application with user interaction. The output file generated will be a 1080p widescreen html app which opens in your default web browser. The latest version of Sweetviz is 2.1.0 released on April-1,2021. Sweetviz helps in quick visualization of target variables and also offers the comparison of Train and Test data in various aspects. It also offers the functionality to compare two subsets of the same data set with its compare_intra() function.\n",
    "\n",
    "Sweetviz has three main functions for creating reports:\n",
    "    • analyze(...)\n",
    "    • compare(...)\n",
    "    • compare_intra(...)\n"
   ]
  },
  {
   "cell_type": "code",
   "execution_count": 1,
   "id": "joined-thesis",
   "metadata": {},
   "outputs": [],
   "source": [
    "#import the libraries\n",
    "import pandas as pd \n",
    "import numpy as np\n",
    "import sweetviz as st"
   ]
  },
  {
   "cell_type": "code",
   "execution_count": 2,
   "id": "infectious-nowhere",
   "metadata": {},
   "outputs": [
    {
     "data": {
      "text/html": [
       "<div>\n",
       "<style scoped>\n",
       "    .dataframe tbody tr th:only-of-type {\n",
       "        vertical-align: middle;\n",
       "    }\n",
       "\n",
       "    .dataframe tbody tr th {\n",
       "        vertical-align: top;\n",
       "    }\n",
       "\n",
       "    .dataframe thead th {\n",
       "        text-align: right;\n",
       "    }\n",
       "</style>\n",
       "<table border=\"1\" class=\"dataframe\">\n",
       "  <thead>\n",
       "    <tr style=\"text-align: right;\">\n",
       "      <th></th>\n",
       "      <th>Year</th>\n",
       "      <th>Period</th>\n",
       "      <th>Crop</th>\n",
       "      <th>Area</th>\n",
       "      <th>Production</th>\n",
       "      <th>Yield</th>\n",
       "      <th>Area Under Irrigation (%)</th>\n",
       "      <th>EYear</th>\n",
       "    </tr>\n",
       "  </thead>\n",
       "  <tbody>\n",
       "    <tr>\n",
       "      <th>0</th>\n",
       "      <td>1950</td>\n",
       "      <td>1950-51</td>\n",
       "      <td>Wheat</td>\n",
       "      <td>9.75</td>\n",
       "      <td>6.46</td>\n",
       "      <td>663</td>\n",
       "      <td>33.99</td>\n",
       "      <td>51</td>\n",
       "    </tr>\n",
       "    <tr>\n",
       "      <th>1</th>\n",
       "      <td>1951</td>\n",
       "      <td>1951-52</td>\n",
       "      <td>Wheat</td>\n",
       "      <td>9.47</td>\n",
       "      <td>6.18</td>\n",
       "      <td>653</td>\n",
       "      <td>35.76</td>\n",
       "      <td>52</td>\n",
       "    </tr>\n",
       "    <tr>\n",
       "      <th>2</th>\n",
       "      <td>1952</td>\n",
       "      <td>1952-53</td>\n",
       "      <td>Wheat</td>\n",
       "      <td>9.83</td>\n",
       "      <td>7.50</td>\n",
       "      <td>763</td>\n",
       "      <td>37.15</td>\n",
       "      <td>53</td>\n",
       "    </tr>\n",
       "    <tr>\n",
       "      <th>3</th>\n",
       "      <td>1953</td>\n",
       "      <td>1953-54</td>\n",
       "      <td>Wheat</td>\n",
       "      <td>10.68</td>\n",
       "      <td>8.02</td>\n",
       "      <td>750</td>\n",
       "      <td>36.16</td>\n",
       "      <td>54</td>\n",
       "    </tr>\n",
       "    <tr>\n",
       "      <th>4</th>\n",
       "      <td>1954</td>\n",
       "      <td>1954-55</td>\n",
       "      <td>Wheat</td>\n",
       "      <td>11.26</td>\n",
       "      <td>9.04</td>\n",
       "      <td>803</td>\n",
       "      <td>35.00</td>\n",
       "      <td>55</td>\n",
       "    </tr>\n",
       "  </tbody>\n",
       "</table>\n",
       "</div>"
      ],
      "text/plain": [
       "   Year   Period   Crop   Area  Production  Yield  Area Under Irrigation (%)  \\\n",
       "0  1950  1950-51  Wheat   9.75        6.46    663                      33.99   \n",
       "1  1951  1951-52  Wheat   9.47        6.18    653                      35.76   \n",
       "2  1952  1952-53  Wheat   9.83        7.50    763                      37.15   \n",
       "3  1953  1953-54  Wheat  10.68        8.02    750                      36.16   \n",
       "4  1954  1954-55  Wheat  11.26        9.04    803                      35.00   \n",
       "\n",
       "  EYear  \n",
       "0    51  \n",
       "1    52  \n",
       "2    53  \n",
       "3    54  \n",
       "4    55  "
      ]
     },
     "execution_count": 2,
     "metadata": {},
     "output_type": "execute_result"
    }
   ],
   "source": [
    "#load the data\n",
    "df=pd.read_csv(\"data_sample.csv\")\n",
    "df.head()"
   ]
  },
  {
   "cell_type": "code",
   "execution_count": 25,
   "id": "otherwise-difficulty",
   "metadata": {},
   "outputs": [
    {
     "data": {
      "application/vnd.jupyter.widget-view+json": {
       "model_id": "059b3669a28a4153ac52b55011aefeb1",
       "version_major": 2,
       "version_minor": 0
      },
      "text/plain": [
       "                                             |          | [  0%]   00:00 -> (? left)"
      ]
     },
     "metadata": {},
     "output_type": "display_data"
    },
    {
     "name": "stdout",
     "output_type": "stream",
     "text": [
      "Report SWEETVIZ_REPORT.html was generated! NOTEBOOK/COLAB USERS: the web browser MAY not pop up, regardless, the report IS saved in your notebook/colab files.\n"
     ]
    }
   ],
   "source": [
    "# Now lets generate report using Sweetviz\n",
    "#first analyze the dataframe using analyze() function \n",
    "# We profide dataframe as input\n",
    "report=st.analyze(df)\n",
    "# Function for Report \n",
    "# Default arguments will generate to \"SWEETVIZ_REPORT.html\"\n",
    "report.show_html()"
   ]
  },
  {
   "cell_type": "code",
   "execution_count": 4,
   "id": "moderate-republican",
   "metadata": {},
   "outputs": [
    {
     "data": {
      "text/plain": [
       "(340, 8)"
      ]
     },
     "execution_count": 4,
     "metadata": {},
     "output_type": "execute_result"
    }
   ],
   "source": [
    "# Now lets Compare the train and Test data \n",
    "#total size of dataframe\n",
    "df.shape"
   ]
  },
  {
   "cell_type": "code",
   "execution_count": 5,
   "id": "acoustic-substitute",
   "metadata": {},
   "outputs": [],
   "source": [
    "# load train_test_split from sklearn\n",
    "from sklearn.model_selection import train_test_split\n",
    "#split the data in train and test with test size 20%\n",
    "train, test = train_test_split(df, test_size=0.2)"
   ]
  },
  {
   "cell_type": "code",
   "execution_count": 6,
   "id": "crucial-protection",
   "metadata": {},
   "outputs": [
    {
     "data": {
      "text/plain": [
       "(272, 8)"
      ]
     },
     "execution_count": 6,
     "metadata": {},
     "output_type": "execute_result"
    }
   ],
   "source": [
    "#training data Shape\n",
    "train.shape"
   ]
  },
  {
   "cell_type": "code",
   "execution_count": 7,
   "id": "living-improvement",
   "metadata": {},
   "outputs": [
    {
     "data": {
      "text/plain": [
       "(68, 8)"
      ]
     },
     "execution_count": 7,
     "metadata": {},
     "output_type": "execute_result"
    }
   ],
   "source": [
    "#test data Shape\n",
    "test.shape"
   ]
  },
  {
   "cell_type": "code",
   "execution_count": 26,
   "id": "played-trustee",
   "metadata": {},
   "outputs": [
    {
     "data": {
      "application/vnd.jupyter.widget-view+json": {
       "model_id": "bf6006e894094b8b8973d25bcab8da12",
       "version_major": 2,
       "version_minor": 0
      },
      "text/plain": [
       "                                             |          | [  0%]   00:00 -> (? left)"
      ]
     },
     "metadata": {},
     "output_type": "display_data"
    },
    {
     "name": "stdout",
     "output_type": "stream",
     "text": [
      "Report Train_Test_Report.html was generated! NOTEBOOK/COLAB USERS: the web browser MAY not pop up, regardless, the report IS saved in your notebook/colab files.\n"
     ]
    }
   ],
   "source": [
    "#lets compare the two data sets using compare() function of Sweetviz\n",
    "compare=st.compare([train, \"Training Data\"], [test, \"Test Data\"])\n",
    "#show report\n",
    "compare.show_html(\"Train_Test_Report.html\", \n",
    "                  open_browser=True, \n",
    "                  layout='widescreen', \n",
    "                  scale=None)"
   ]
  },
  {
   "cell_type": "markdown",
   "id": "upset-andrew",
   "metadata": {},
   "source": [
    "Now lets compare the two categorical features from the same data frame using Sweetviz compare_intra() function"
   ]
  },
  {
   "cell_type": "code",
   "execution_count": 11,
   "id": "innocent-threat",
   "metadata": {},
   "outputs": [
    {
     "data": {
      "text/plain": [
       "array(['Wheat', 'Rice', 'Jowar', 'Bajra', 'Maize'], dtype=object)"
      ]
     },
     "execution_count": 11,
     "metadata": {},
     "output_type": "execute_result"
    }
   ],
   "source": [
    "df.Crop.unique()"
   ]
  },
  {
   "cell_type": "code",
   "execution_count": 16,
   "id": "turned-casting",
   "metadata": {},
   "outputs": [
    {
     "data": {
      "text/plain": [
       "['Rice', 'Jowar', 'Bajra', 'Maize']"
      ]
     },
     "execution_count": 16,
     "metadata": {},
     "output_type": "execute_result"
    }
   ],
   "source": [
    "others=['Rice', 'Jowar', 'Bajra', 'Maize']\n",
    "others"
   ]
  },
  {
   "cell_type": "code",
   "execution_count": 27,
   "id": "generic-duncan",
   "metadata": {},
   "outputs": [
    {
     "data": {
      "application/vnd.jupyter.widget-view+json": {
       "model_id": "e3839af3374e46c58387c76eb97ce6b1",
       "version_major": 2,
       "version_minor": 0
      },
      "text/plain": [
       "                                             |          | [  0%]   00:00 -> (? left)"
      ]
     },
     "metadata": {},
     "output_type": "display_data"
    },
    {
     "name": "stdout",
     "output_type": "stream",
     "text": [
      "Report SWEETVIZ_COMPARE_TWO.html was generated! NOTEBOOK/COLAB USERS: the web browser MAY not pop up, regardless, the report IS saved in your notebook/colab files.\n"
     ]
    }
   ],
   "source": [
    "#compare the two categorical features Wheat and others \n",
    "comp_report= st.compare_intra(df, df[\"Crop\"] == \"Wheat\", ['Wheat',\"Others\"])\n",
    "comp_report.show_html('SWEETVIZ_COMPARE_TWO.html', \n",
    "                      open_browser=True, \n",
    "                      layout='widescreen', \n",
    "                      scale=None)"
   ]
  },
  {
   "cell_type": "code",
   "execution_count": 23,
   "id": "brief-example",
   "metadata": {},
   "outputs": [
    {
     "name": "stdout",
     "output_type": "stream",
     "text": [
      "Report SWEETVIZ_COMPARE_TWO.html was generated! NOTEBOOK/COLAB USERS: the web browser MAY not pop up, regardless, the report IS saved in your notebook/colab files.\n"
     ]
    }
   ],
   "source": [
    "comp_report.show_html('SWEETVIZ_COMPARE_TWO.html', open_browser=True, layout='widescreen', scale=None)"
   ]
  },
  {
   "cell_type": "code",
   "execution_count": null,
   "id": "advised-brick",
   "metadata": {},
   "outputs": [],
   "source": []
  },
  {
   "cell_type": "code",
   "execution_count": null,
   "id": "realistic-furniture",
   "metadata": {},
   "outputs": [],
   "source": []
  },
  {
   "cell_type": "code",
   "execution_count": 5,
   "id": "italian-hazard",
   "metadata": {},
   "outputs": [
    {
     "name": "stdout",
     "output_type": "stream",
     "text": [
      "Imported AutoViz_Class version: 0.0.81. Call using:\n",
      "    from autoviz.AutoViz_Class import AutoViz_Class\n",
      "    AV = AutoViz_Class()\n",
      "    AV.AutoViz(filename, sep=',', depVar='', dfte=None, header=0, verbose=0,\n",
      "                            lowess=False,chart_format='svg',max_rows_analyzed=150000,max_cols_analyzed=30)\n",
      "Note: verbose=0 or 1 generates charts and displays them in your local Jupyter notebook.\n",
      "      verbose=2 saves plots in your local machine under AutoViz_Plots directory and does not display charts.\n"
     ]
    }
   ],
   "source": [
    "from autoviz.AutoViz_Class import AutoViz_Class\n",
    "AV = AutoViz_Class()"
   ]
  },
  {
   "cell_type": "code",
   "execution_count": null,
   "id": "relevant-pakistan",
   "metadata": {},
   "outputs": [],
   "source": []
  },
  {
   "cell_type": "code",
   "execution_count": 53,
   "id": "tender-latex",
   "metadata": {},
   "outputs": [],
   "source": [
    "import dtale"
   ]
  },
  {
   "cell_type": "code",
   "execution_count": 54,
   "id": "postal-dryer",
   "metadata": {},
   "outputs": [
    {
     "data": {
      "text/html": [
       "<div>\n",
       "<style scoped>\n",
       "    .dataframe tbody tr th:only-of-type {\n",
       "        vertical-align: middle;\n",
       "    }\n",
       "\n",
       "    .dataframe tbody tr th {\n",
       "        vertical-align: top;\n",
       "    }\n",
       "\n",
       "    .dataframe thead th {\n",
       "        text-align: right;\n",
       "    }\n",
       "</style>\n",
       "<table border=\"1\" class=\"dataframe\">\n",
       "  <thead>\n",
       "    <tr style=\"text-align: right;\">\n",
       "      <th></th>\n",
       "      <th>Year</th>\n",
       "      <th>Period</th>\n",
       "      <th>Crop</th>\n",
       "      <th>Area</th>\n",
       "      <th>Production</th>\n",
       "      <th>Yield</th>\n",
       "      <th>Area Under Irrigation (%)</th>\n",
       "      <th>EYear</th>\n",
       "    </tr>\n",
       "  </thead>\n",
       "  <tbody>\n",
       "    <tr>\n",
       "      <th>0</th>\n",
       "      <td>1950</td>\n",
       "      <td>1950-51</td>\n",
       "      <td>Wheat</td>\n",
       "      <td>9.75</td>\n",
       "      <td>6.46</td>\n",
       "      <td>663</td>\n",
       "      <td>33.99</td>\n",
       "      <td>51</td>\n",
       "    </tr>\n",
       "    <tr>\n",
       "      <th>1</th>\n",
       "      <td>1951</td>\n",
       "      <td>1951-52</td>\n",
       "      <td>Wheat</td>\n",
       "      <td>9.47</td>\n",
       "      <td>6.18</td>\n",
       "      <td>653</td>\n",
       "      <td>35.76</td>\n",
       "      <td>52</td>\n",
       "    </tr>\n",
       "    <tr>\n",
       "      <th>2</th>\n",
       "      <td>1952</td>\n",
       "      <td>1952-53</td>\n",
       "      <td>Wheat</td>\n",
       "      <td>9.83</td>\n",
       "      <td>7.50</td>\n",
       "      <td>763</td>\n",
       "      <td>37.15</td>\n",
       "      <td>53</td>\n",
       "    </tr>\n",
       "    <tr>\n",
       "      <th>3</th>\n",
       "      <td>1953</td>\n",
       "      <td>1953-54</td>\n",
       "      <td>Wheat</td>\n",
       "      <td>10.68</td>\n",
       "      <td>8.02</td>\n",
       "      <td>750</td>\n",
       "      <td>36.16</td>\n",
       "      <td>54</td>\n",
       "    </tr>\n",
       "    <tr>\n",
       "      <th>4</th>\n",
       "      <td>1954</td>\n",
       "      <td>1954-55</td>\n",
       "      <td>Wheat</td>\n",
       "      <td>11.26</td>\n",
       "      <td>9.04</td>\n",
       "      <td>803</td>\n",
       "      <td>35.00</td>\n",
       "      <td>55</td>\n",
       "    </tr>\n",
       "  </tbody>\n",
       "</table>\n",
       "</div>"
      ],
      "text/plain": [
       "   Year   Period   Crop   Area  Production  Yield  Area Under Irrigation (%)  \\\n",
       "0  1950  1950-51  Wheat   9.75        6.46    663                      33.99   \n",
       "1  1951  1951-52  Wheat   9.47        6.18    653                      35.76   \n",
       "2  1952  1952-53  Wheat   9.83        7.50    763                      37.15   \n",
       "3  1953  1953-54  Wheat  10.68        8.02    750                      36.16   \n",
       "4  1954  1954-55  Wheat  11.26        9.04    803                      35.00   \n",
       "\n",
       "  EYear  \n",
       "0    51  \n",
       "1    52  \n",
       "2    53  \n",
       "3    54  \n",
       "4    55  "
      ]
     },
     "execution_count": 54,
     "metadata": {},
     "output_type": "execute_result"
    }
   ],
   "source": [
    "dff=pd.read_csv(\"data_sample.csv\")\n",
    "dff.head()"
   ]
  },
  {
   "cell_type": "code",
   "execution_count": 55,
   "id": "enhanced-catch",
   "metadata": {},
   "outputs": [],
   "source": [
    "output=dtale.show(df)"
   ]
  },
  {
   "cell_type": "code",
   "execution_count": 59,
   "id": "advisory-norman",
   "metadata": {},
   "outputs": [
    {
     "ename": "AttributeError",
     "evalue": "'DtaleData' object has no attribute 'to_html'",
     "output_type": "error",
     "traceback": [
      "\u001b[1;31m---------------------------------------------------------------------------\u001b[0m",
      "\u001b[1;31mAttributeError\u001b[0m                            Traceback (most recent call last)",
      "\u001b[1;32m<ipython-input-59-60f6e8a0e8e3>\u001b[0m in \u001b[0;36m<module>\u001b[1;34m\u001b[0m\n\u001b[1;32m----> 1\u001b[1;33m \u001b[0moutput\u001b[0m\u001b[1;33m.\u001b[0m\u001b[0mto_html\u001b[0m\u001b[1;33m(\u001b[0m\u001b[1;33m)\u001b[0m\u001b[1;33m\u001b[0m\u001b[1;33m\u001b[0m\u001b[0m\n\u001b[0m",
      "\u001b[1;31mAttributeError\u001b[0m: 'DtaleData' object has no attribute 'to_html'"
     ]
    },
    {
     "name": "stdout",
     "output_type": "stream",
     "text": [
      "Executing shutdown due to inactivity...\n"
     ]
    },
    {
     "name": "stderr",
     "output_type": "stream",
     "text": [
      "2021-04-08 10:52:54,398 - INFO     - Executing shutdown due to inactivity...\n"
     ]
    },
    {
     "name": "stdout",
     "output_type": "stream",
     "text": [
      "Executing shutdown due to inactivity...\n"
     ]
    },
    {
     "name": "stderr",
     "output_type": "stream",
     "text": [
      "2021-04-08 10:53:03,498 - INFO     - Executing shutdown due to inactivity...\n"
     ]
    },
    {
     "name": "stdout",
     "output_type": "stream",
     "text": [
      "Executing shutdown...\n"
     ]
    },
    {
     "name": "stderr",
     "output_type": "stream",
     "text": [
      "2021-04-08 10:53:12,971 - INFO     - Executing shutdown...\n"
     ]
    },
    {
     "name": "stdout",
     "output_type": "stream",
     "text": [
      "Executing shutdown...\n"
     ]
    },
    {
     "name": "stderr",
     "output_type": "stream",
     "text": [
      "2021-04-08 10:53:13,431 - INFO     - Executing shutdown...\n"
     ]
    }
   ],
   "source": [
    "output.to_html()"
   ]
  },
  {
   "cell_type": "code",
   "execution_count": 57,
   "id": "polished-acting",
   "metadata": {},
   "outputs": [
    {
     "data": {
      "text/html": [
       "\n",
       "        <iframe\n",
       "            width=\"100%\"\n",
       "            height=\"475\"\n",
       "            src=\"http://Babarkahn-PC:40000/dtale/iframe/1\"\n",
       "            frameborder=\"0\"\n",
       "            allowfullscreen\n",
       "        ></iframe>\n",
       "        "
      ],
      "text/plain": [
       "<IPython.lib.display.IFrame at 0x12dad7f0>"
      ]
     },
     "metadata": {},
     "output_type": "display_data"
    },
    {
     "data": {
      "text/plain": []
     },
     "execution_count": 57,
     "metadata": {},
     "output_type": "execute_result"
    }
   ],
   "source": [
    "output"
   ]
  },
  {
   "cell_type": "code",
   "execution_count": null,
   "id": "beneficial-husband",
   "metadata": {},
   "outputs": [],
   "source": []
  }
 ],
 "metadata": {
  "kernelspec": {
   "display_name": "Python [conda env:mlwork] *",
   "language": "python",
   "name": "conda-env-mlwork-py"
  },
  "language_info": {
   "codemirror_mode": {
    "name": "ipython",
    "version": 3
   },
   "file_extension": ".py",
   "mimetype": "text/x-python",
   "name": "python",
   "nbconvert_exporter": "python",
   "pygments_lexer": "ipython3",
   "version": "3.8.5"
  }
 },
 "nbformat": 4,
 "nbformat_minor": 5
}
